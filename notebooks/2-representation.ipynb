{
  "cells": [
    {
      "cell_type": "code",
      "execution_count": null,
      "metadata": {
        "id": "VroqlxgCg9Bp"
      },
      "outputs": [],
      "source": [
        "#make train/test split\n",
        "\n",
        "df_sample = pd.read_csv(\"/content/processed_data/yelp_cleaned_sample.csv\")\n",
        "X_train, X_test, y_train, y_test = train_test_split(\n",
        "    df_sample['clean_text'],\n",
        "    df_sample['label'],\n",
        "    test_size=0.2,\n",
        "    random_state=42,\n",
        "    stratify=df_sample['label']\n",
        ")\n",
        "\n",
        "#Confirm sizes\n",
        "print(\"Training samples:\", len(X_train))\n",
        "print(\"Testing samples:\", len(X_test))"
      ]
    },
    {
      "cell_type": "code",
      "source": [
        "#Testing BOW and TFIDF\n",
        "\n",
        "# BoW Vectorization\n",
        "bow_vectorizer = CountVectorizer(max_features = 1000000, ngram_range=(1,2), stop_words='english')\n",
        "X_train_bow = bow_vectorizer.fit_transform(X_train)\n",
        "X_test_bow = bow_vectorizer.transform(X_test)\n",
        "\n",
        "# TF-IDF Vectorization\n",
        "tfidf_vectorizer = TfidfVectorizer(max_features=1000000, ngram_range=(1,2), stop_words='english')\n",
        "#Stop words should have already been removed during cleaning process\n",
        "X_train_tfidf = tfidf_vectorizer.fit_transform(X_train)\n",
        "X_test_tfidf = tfidf_vectorizer.transform(X_test)\n",
        "\n",
        "print(\"BoW shape:\", X_train_bow.shape)\n",
        "print(\"TF-IDF shape:\", X_train_tfidf.shape)\n"
      ],
      "metadata": {
        "id": "8rr5_zsrhcLV"
      },
      "execution_count": null,
      "outputs": []
    },
    {
      "cell_type": "code",
      "source": [
        "from sklearn.linear_model import LogisticRegression\n",
        "from sklearn.metrics import accuracy_score\n",
        "\n",
        "#Creating model\n",
        "model = LogisticRegression()  #establishing Log Model\n",
        "model.fit(X_train_tfidf, y_train)  #training model\n",
        "\n",
        "#Evaluate and getting score of model\n",
        "tfidf_accuracy = model.score(X_test_tfidf, y_test) #Fitting score to test models\n",
        "print(f\"Model Accuracy: {tfidf_accuracy}\")"
      ],
      "metadata": {
        "id": "bxdtvoR7hdU5"
      },
      "execution_count": null,
      "outputs": []
    },
    {
      "cell_type": "code",
      "source": [
        "from sklearn.linear_model import LogisticRegression\n",
        "from sklearn.metrics import accuracy_score\n",
        "\n",
        "#Creating BOW\n",
        "model = LogisticRegression()  # Initialize model again\n",
        "model.fit(X_train_bow, y_train)  #Train model again\n",
        "\n",
        "#Getting score of trained model\n",
        "bow_accuracy = model.score(X_test_bow, y_test)  #get accuracy of model, use X_test_bow here\n",
        "print(f\"TFIDF Accuracy: {tfidf_accuracy}\")\n",
        "print(f\"BOW Accuracy: {bow_accuracy}\")"
      ],
      "metadata": {
        "id": "WM6mY2-JheMh"
      },
      "execution_count": null,
      "outputs": []
    },
    {
      "cell_type": "code",
      "source": [
        "#Print Classifcation report for both TFIDF and BOW\n",
        "from sklearn.metrics import classification_report\n",
        "\n",
        "\n",
        "y_pred_tfidf = model.predict(X_test_tfidf)\n",
        "y_pred_bow = model.predict(X_test_bow)\n",
        "print(classification_report(y_test, y_pred_tfidf))\n",
        "print(classification_report(y_test, y_pred_bow))"
      ],
      "metadata": {
        "id": "fflez0vghe_2"
      },
      "execution_count": null,
      "outputs": []
    },
    {
      "cell_type": "code",
      "source": [
        "from sklearn.linear_model import LogisticRegression\n",
        "from sklearn.metrics import accuracy_score, classification_report\n",
        "\n",
        "# Initialize and train the model\n",
        "lr_model = LogisticRegression(multi_class='multinomial', solver='saga', max_iter=1000)\n",
        "lr_model.fit(X_train_tfidf, y_train)\n",
        "\n",
        "# Predictions\n",
        "y_pred_lr = lr_model.predict(X_test_tfidf)\n",
        "\n",
        "# Evaluation\n",
        "print(\"Logistic Regression Accuracy:\", accuracy_score(y_test, y_pred_lr))\n",
        "print(\"\\nClassification Report:\\n\", classification_report(y_test, y_pred_lr, digits=3))\n"
      ],
      "metadata": {
        "id": "1sVpk3yNhmkO"
      },
      "execution_count": null,
      "outputs": []
    }
  ],
  "metadata": {
    "language_info": {
      "name": "python"
    },
    "orig_nbformat": 4,
    "colab": {
      "provenance": []
    }
  },
  "nbformat": 4,
  "nbformat_minor": 0
}