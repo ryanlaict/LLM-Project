{
  "cells": [
    {
      "cell_type": "code",
      "source": [
        "!python -m spacy download en_core_web_lg"
      ],
      "metadata": {
        "id": "77vdD5oqBGbp",
        "outputId": "522ed7c0-e428-4895-828b-b17bc143aa23",
        "colab": {
          "base_uri": "https://localhost:8080/"
        }
      },
      "execution_count": 4,
      "outputs": [
        {
          "output_type": "stream",
          "name": "stdout",
          "text": [
            "Collecting en-core-web-lg==3.8.0\n",
            "  Downloading https://github.com/explosion/spacy-models/releases/download/en_core_web_lg-3.8.0/en_core_web_lg-3.8.0-py3-none-any.whl (400.7 MB)\n",
            "\u001b[2K     \u001b[90m━━━━━━━━━━━━━━━━━━━━━━━━━━━━━━━━━━━━━━━━\u001b[0m \u001b[32m400.7/400.7 MB\u001b[0m \u001b[31m2.6 MB/s\u001b[0m eta \u001b[36m0:00:00\u001b[0m\n",
            "\u001b[?25hInstalling collected packages: en-core-web-lg\n",
            "Successfully installed en-core-web-lg-3.8.0\n",
            "\u001b[38;5;2m✔ Download and installation successful\u001b[0m\n",
            "You can now load the package via spacy.load('en_core_web_lg')\n",
            "\u001b[38;5;3m⚠ Restart to reload dependencies\u001b[0m\n",
            "If you are in a Jupyter or Colab notebook, you may need to restart Python in\n",
            "order to load all the package's dependencies. You can do this by selecting the\n",
            "'Restart kernel' or 'Restart runtime' option.\n"
          ]
        }
      ]
    },
    {
      "cell_type": "code",
      "source": [
        "import pandas as pd\n",
        "import numpy as np\n",
        "import re\n",
        "import string\n",
        "from sklearn.model_selection import train_test_split\n",
        "from nltk.corpus import stopwords\n",
        "from nltk.tokenize import word_tokenize\n",
        "import nltk\n",
        "import os\n",
        "import seaborn as sns\n",
        "from collections import Counter\n",
        "from sklearn.feature_extraction.text import CountVectorizer, TfidfVectorizer\n",
        "import spacy\n",
        "import csv\n",
        "from sklearn.manifold import TSNE\n",
        "from sklearn import linear_model\n",
        "import matplotlib.pyplot as plt\n",
        "%matplotlib inline\n",
        "from IPython.display import clear_output\n",
        "\n",
        "nlp = spacy.load('en_core_web_lg')\n",
        "nltk.download('punkt')\n",
        "nltk.download('stopwords')\n",
        "nltk.download('punkt_tab')"
      ],
      "metadata": {
        "id": "VC8ES6W1A55h",
        "outputId": "b6b42d5e-dd45-4a65-fb3c-b3e813368f85",
        "colab": {
          "base_uri": "https://localhost:8080/"
        }
      },
      "execution_count": 5,
      "outputs": [
        {
          "output_type": "stream",
          "name": "stderr",
          "text": [
            "[nltk_data] Downloading package punkt to /root/nltk_data...\n",
            "[nltk_data]   Unzipping tokenizers/punkt.zip.\n",
            "[nltk_data] Downloading package stopwords to /root/nltk_data...\n",
            "[nltk_data]   Unzipping corpora/stopwords.zip.\n",
            "[nltk_data] Downloading package punkt_tab to /root/nltk_data...\n",
            "[nltk_data]   Unzipping tokenizers/punkt_tab.zip.\n"
          ]
        },
        {
          "output_type": "execute_result",
          "data": {
            "text/plain": [
              "True"
            ]
          },
          "metadata": {},
          "execution_count": 5
        }
      ]
    },
    {
      "cell_type": "code",
      "execution_count": 6,
      "metadata": {
        "id": "VroqlxgCg9Bp",
        "outputId": "bbce30d1-cc3b-4e58-cc04-a04b1192fc13",
        "colab": {
          "base_uri": "https://localhost:8080/"
        }
      },
      "outputs": [
        {
          "output_type": "stream",
          "name": "stdout",
          "text": [
            "Training samples: 40000\n",
            "Testing samples: 10000\n"
          ]
        }
      ],
      "source": [
        "#make train/test split\n",
        "\n",
        "df_sample = pd.read_csv(\"/content/yelp_cleaned_full_test.csv\")\n",
        "X_train, X_test, y_train, y_test = train_test_split(\n",
        "    df_sample['clean_text'],\n",
        "    df_sample['label'],\n",
        "    test_size=0.2,\n",
        "    random_state=42,\n",
        "    stratify=df_sample['label']\n",
        ")\n",
        "\n",
        "#Confirm sizes\n",
        "print(\"Training samples:\", len(X_train))\n",
        "print(\"Testing samples:\", len(X_test))"
      ]
    },
    {
      "cell_type": "code",
      "source": [
        "#Testing BOW and TFIDF\n",
        "\n",
        "# BoW Vectorization\n",
        "bow_vectorizer = CountVectorizer(max_features = 1000000, ngram_range=(1,2), stop_words='english')\n",
        "X_train_bow = bow_vectorizer.fit_transform(X_train)\n",
        "# Handle NaN values in X_test before transforming\n",
        "X_test = X_test.fillna('')  # Replace NaN with empty string\n",
        "X_test_bow = bow_vectorizer.transform(X_test)\n",
        "\n",
        "# TF-IDF Vectorization\n",
        "tfidf_vectorizer = TfidfVectorizer(max_features=1000000, ngram_range=(1,2), stop_words='english')\n",
        "#Stop words should have already been removed during cleaning process\n",
        "X_train_tfidf = tfidf_vectorizer.fit_transform(X_train)\n",
        "X_test = X_test.fillna('')  # Replace NaN with empty string\n",
        "X_test_tfidf = tfidf_vectorizer.transform(X_test)\n",
        "\n",
        "print(\"BoW shape:\", X_train_bow.shape)\n",
        "print(\"TF-IDF shape:\", X_train_tfidf.shape)"
      ],
      "metadata": {
        "id": "8rr5_zsrhcLV",
        "outputId": "d91b44ae-1a26-4056-9cee-4f9cc9726bfd",
        "colab": {
          "base_uri": "https://localhost:8080/"
        }
      },
      "execution_count": 8,
      "outputs": [
        {
          "output_type": "stream",
          "name": "stdout",
          "text": [
            "BoW shape: (40000, 1000000)\n",
            "TF-IDF shape: (40000, 1000000)\n"
          ]
        }
      ]
    },
    {
      "cell_type": "code",
      "source": [
        "from sklearn.linear_model import LogisticRegression\n",
        "from sklearn.metrics import accuracy_score\n",
        "\n",
        "#Creating model\n",
        "model = LogisticRegression()  #establishing Log Model\n",
        "model.fit(X_train_tfidf, y_train)  #training model\n",
        "\n",
        "#Evaluate and getting score of model\n",
        "tfidf_accuracy = model.score(X_test_tfidf, y_test) #Fitting score to test models\n",
        "print(f\"Model Accuracy: {tfidf_accuracy}\")"
      ],
      "metadata": {
        "id": "bxdtvoR7hdU5",
        "outputId": "f17fc1cc-0f04-4d3c-f1fd-1511ad4041c6",
        "colab": {
          "base_uri": "https://localhost:8080/"
        }
      },
      "execution_count": 9,
      "outputs": [
        {
          "output_type": "stream",
          "name": "stderr",
          "text": [
            "/usr/local/lib/python3.11/dist-packages/sklearn/linear_model/_logistic.py:465: ConvergenceWarning: lbfgs failed to converge (status=1):\n",
            "STOP: TOTAL NO. of ITERATIONS REACHED LIMIT.\n",
            "\n",
            "Increase the number of iterations (max_iter) or scale the data as shown in:\n",
            "    https://scikit-learn.org/stable/modules/preprocessing.html\n",
            "Please also refer to the documentation for alternative solver options:\n",
            "    https://scikit-learn.org/stable/modules/linear_model.html#logistic-regression\n",
            "  n_iter_i = _check_optimize_result(\n"
          ]
        },
        {
          "output_type": "stream",
          "name": "stdout",
          "text": [
            "Model Accuracy: 0.5538\n"
          ]
        }
      ]
    },
    {
      "cell_type": "code",
      "source": [
        "from sklearn.linear_model import LogisticRegression\n",
        "from sklearn.metrics import accuracy_score\n",
        "\n",
        "#Creating BOW\n",
        "model = LogisticRegression()  # Initialize model again\n",
        "model.fit(X_train_bow, y_train)  #Train model again\n",
        "\n",
        "#Getting score of trained model\n",
        "bow_accuracy = model.score(X_test_bow, y_test)  #get accuracy of model, use X_test_bow here\n",
        "print(f\"TFIDF Accuracy: {tfidf_accuracy}\")\n",
        "print(f\"BOW Accuracy: {bow_accuracy}\")"
      ],
      "metadata": {
        "id": "WM6mY2-JheMh",
        "outputId": "7ebb42d8-7f5d-4bff-8632-7600562aeb68",
        "colab": {
          "base_uri": "https://localhost:8080/"
        }
      },
      "execution_count": 10,
      "outputs": [
        {
          "output_type": "stream",
          "name": "stdout",
          "text": [
            "TFIDF Accuracy: 0.5538\n",
            "BOW Accuracy: 0.53\n"
          ]
        },
        {
          "output_type": "stream",
          "name": "stderr",
          "text": [
            "/usr/local/lib/python3.11/dist-packages/sklearn/linear_model/_logistic.py:465: ConvergenceWarning: lbfgs failed to converge (status=1):\n",
            "STOP: TOTAL NO. of ITERATIONS REACHED LIMIT.\n",
            "\n",
            "Increase the number of iterations (max_iter) or scale the data as shown in:\n",
            "    https://scikit-learn.org/stable/modules/preprocessing.html\n",
            "Please also refer to the documentation for alternative solver options:\n",
            "    https://scikit-learn.org/stable/modules/linear_model.html#logistic-regression\n",
            "  n_iter_i = _check_optimize_result(\n"
          ]
        }
      ]
    },
    {
      "cell_type": "code",
      "source": [
        "#Print Classifcation report for both TFIDF and BOW\n",
        "from sklearn.metrics import classification_report\n",
        "\n",
        "\n",
        "y_pred_tfidf = model.predict(X_test_tfidf)\n",
        "y_pred_bow = model.predict(X_test_bow)\n",
        "print(classification_report(y_test, y_pred_tfidf))\n",
        "print(classification_report(y_test, y_pred_bow))"
      ],
      "metadata": {
        "id": "fflez0vghe_2",
        "outputId": "bce818ce-180f-4dc4-c2e5-f33633f40aa9",
        "colab": {
          "base_uri": "https://localhost:8080/"
        }
      },
      "execution_count": 11,
      "outputs": [
        {
          "output_type": "stream",
          "name": "stdout",
          "text": [
            "              precision    recall  f1-score   support\n",
            "\n",
            "           0       0.40      0.96      0.56      2000\n",
            "           1       0.47      0.05      0.09      2000\n",
            "           2       0.53      0.20      0.29      2000\n",
            "           3       0.44      0.30      0.36      2000\n",
            "           4       0.51      0.74      0.61      2000\n",
            "\n",
            "    accuracy                           0.45     10000\n",
            "   macro avg       0.47      0.45      0.38     10000\n",
            "weighted avg       0.47      0.45      0.38     10000\n",
            "\n",
            "              precision    recall  f1-score   support\n",
            "\n",
            "           0       0.66      0.72      0.69      2000\n",
            "           1       0.48      0.42      0.44      2000\n",
            "           2       0.44      0.44      0.44      2000\n",
            "           3       0.43      0.43      0.43      2000\n",
            "           4       0.62      0.65      0.63      2000\n",
            "\n",
            "    accuracy                           0.53     10000\n",
            "   macro avg       0.52      0.53      0.53     10000\n",
            "weighted avg       0.52      0.53      0.53     10000\n",
            "\n"
          ]
        }
      ]
    },
    {
      "cell_type": "code",
      "source": [
        "from sklearn.linear_model import LogisticRegression\n",
        "from sklearn.metrics import accuracy_score, classification_report\n",
        "\n",
        "# Initialize and train the model\n",
        "lr_model = LogisticRegression(multi_class='multinomial', solver='saga', max_iter=1000)\n",
        "lr_model.fit(X_train_tfidf, y_train)\n",
        "\n",
        "# Predictions\n",
        "y_pred_lr = lr_model.predict(X_test_tfidf)\n",
        "\n",
        "# Evaluation\n",
        "print(\"Logistic Regression Accuracy:\", accuracy_score(y_test, y_pred_lr))\n",
        "print(\"\\nClassification Report:\\n\", classification_report(y_test, y_pred_lr, digits=3))\n"
      ],
      "metadata": {
        "id": "1sVpk3yNhmkO",
        "outputId": "038a9c6d-61d9-4e59-f47f-7c6b2781a96d",
        "colab": {
          "base_uri": "https://localhost:8080/"
        }
      },
      "execution_count": 12,
      "outputs": [
        {
          "output_type": "stream",
          "name": "stderr",
          "text": [
            "/usr/local/lib/python3.11/dist-packages/sklearn/linear_model/_logistic.py:1247: FutureWarning: 'multi_class' was deprecated in version 1.5 and will be removed in 1.7. From then on, it will always use 'multinomial'. Leave it to its default value to avoid this warning.\n",
            "  warnings.warn(\n"
          ]
        },
        {
          "output_type": "stream",
          "name": "stdout",
          "text": [
            "Logistic Regression Accuracy: 0.5533\n",
            "\n",
            "Classification Report:\n",
            "               precision    recall  f1-score   support\n",
            "\n",
            "           0      0.663     0.716     0.689      2000\n",
            "           1      0.501     0.455     0.477      2000\n",
            "           2      0.472     0.479     0.476      2000\n",
            "           3      0.472     0.469     0.470      2000\n",
            "           4      0.645     0.648     0.647      2000\n",
            "\n",
            "    accuracy                          0.553     10000\n",
            "   macro avg      0.551     0.553     0.552     10000\n",
            "weighted avg      0.551     0.553     0.552     10000\n",
            "\n"
          ]
        }
      ]
    }
  ],
  "metadata": {
    "language_info": {
      "name": "python"
    },
    "orig_nbformat": 4,
    "colab": {
      "provenance": []
    },
    "kernelspec": {
      "name": "python3",
      "display_name": "Python 3"
    }
  },
  "nbformat": 4,
  "nbformat_minor": 0
}