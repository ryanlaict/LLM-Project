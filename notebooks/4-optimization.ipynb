{
  "cells": [
    {
      "cell_type": "code",
      "execution_count": null,
      "metadata": {
        "id": "BJ4DpUMPhASj"
      },
      "outputs": [],
      "source": [
        "df = pd.read_csv('/content/processed_data/yelp_cleaned_sample.csv') #importing dataset"
      ]
    },
    {
      "cell_type": "code",
      "source": [
        "#Import Libraries\n",
        "from datasets import Dataset\n",
        "from evaluate import load\n",
        "from transformers import (\n",
        "    DistilBertTokenizerFast,\n",
        "    DistilBertForSequenceClassification,\n",
        "    Trainer,\n",
        "    TrainingArguments,\n",
        "    DataCollatorWithPadding\n",
        ")\n",
        "from sklearn.model_selection import train_test_split\n",
        "from sklearn.metrics import accuracy_score, recall_score, f1_score, classification_report\n",
        "\n",
        "import pandas as pd\n",
        "import numpy as np\n",
        "import torch"
      ],
      "metadata": {
        "id": "qV7AfagTi3vR"
      },
      "execution_count": null,
      "outputs": []
    },
    {
      "cell_type": "markdown",
      "source": [
        "#Optimizing model and tuning hyperparameters"
      ],
      "metadata": {
        "id": "fqC9N01MjnZr"
      }
    },
    {
      "cell_type": "code",
      "source": [
        "#Map original labels to binary (0-1 Negative, 3-4 Positive)\n",
        "def map_to_binary(label):\n",
        "    if label in [0, 1]:\n",
        "        return 0\n",
        "    elif label in [3, 4]:\n",
        "        return 1\n",
        "    else:\n",
        "        return None\n",
        "\n",
        "df['binary_label'] = df['label'].apply(map_to_binary)\n",
        "df = df.dropna(subset=['binary_label'])\n",
        "df['binary_label'] = df['binary_label'].astype(int)\n",
        "\n",
        "# Data split\n",
        "train_df, test_df = train_test_split(df, test_size=0.2, stratify=df['binary_label'], random_state=42)\n",
        "\n",
        "#Convert to Hugging face\n",
        "train_dataset = Dataset.from_pandas(train_df[['clean_text', 'binary_label']])\n",
        "test_dataset = Dataset.from_pandas(test_df[['clean_text', 'binary_label']])\n",
        "\n",
        "#Relabel\n",
        "train_dataset = train_dataset.rename_column(\"binary_label\", \"labels\")\n",
        "test_dataset = test_dataset.rename_column(\"binary_label\", \"labels\")\n",
        "\n",
        "tokenizer = DistilBertTokenizerFast.from_pretrained(\"distilbert-base-uncased\")\n",
        "\n",
        "def tokenize(examples):\n",
        "    return tokenizer(examples['clean_text'], padding='max_length', truncation=True)\n",
        "# Tokenize and format\n",
        "train_dataset = train_dataset.map(tokenize, batched=True)\n",
        "test_dataset = test_dataset.map(tokenize, batched=True)\n",
        "\n",
        "#Import to torchy\n",
        "train_dataset.set_format(type=\"torch\", columns=['input_ids', 'attention_mask', 'labels'])\n",
        "test_dataset.set_format(type=\"torch\", columns=['input_ids', 'attention_mask', 'labels'])\n",
        "\n",
        "\n",
        "# Creat Model\n",
        "model = DistilBertForSequenceClassification.from_pretrained(\"distilbert-base-uncased\", num_labels=2)\n",
        "\n",
        "#Define Metrics\n",
        "\n",
        "def compute_metrics(pred):\n",
        "    preds = np.argmax(pred.predictions, axis=1)\n",
        "    labels = pred.label_ids\n",
        "    accuracy = accuracy_score(labels, preds)\n",
        "    recall = recall_score(labels, preds)\n",
        "    f1 = f1_score(labels, preds)\n",
        "    return {\"accuracy\": accuracy, \"recall\": recall, \"f1\": f1}\n",
        "\n",
        "#Training Args\n",
        "training_args = TrainingArguments(\n",
        "    output_dir=\"./bert_yelp\",\n",
        "    evaluation_strategy=\"epoch\",\n",
        "    save_strategy=\"epoch\",\n",
        "    learning_rate=1e-5,\n",
        "    per_device_train_batch_size=8,# Reduce batch size to reduce resource load\n",
        "    per_device_eval_batch_size=8,# Reduce batch size to reduce resource load\n",
        "    num_train_epochs=2,\n",
        "    weight_decay=0.01,\n",
        "    logging_dir=\"./logs\",\n",
        "    logging_steps=10,\n",
        "    fp16=True,\n",
        "    gradient_accumulation_steps=2,\n",
        "    push_to_hub=True,\n",
        ")\n",
        "\n",
        "#Trainer Set-up\n",
        "trainer = Trainer(\n",
        "    model=model,\n",
        "    args=training_args,\n",
        "    train_dataset=train_dataset,\n",
        "    eval_dataset=test_dataset,\n",
        "    compute_metrics=compute_metrics,\n",
        ")"
      ],
      "metadata": {
        "id": "bJkRtNF_jkr3"
      },
      "execution_count": null,
      "outputs": []
    },
    {
      "cell_type": "code",
      "source": [
        "trainer = Trainer(\n",
        "    model=model,\n",
        "    args=training_args,\n",
        "    train_dataset=tokenized_train,\n",
        "    eval_dataset=tokenized_test,\n",
        "    tokenizer=tokenizer,\n",
        "    compute_metrics=compute_metrics\n",
        ")\n",
        "\n",
        "# Train and evaluate\n",
        "trainer.train()\n",
        "results = trainer.evaluate()\n",
        "print(f\"\\n Final Evaluation Accuracy: {results['eval_accuracy']:.4f}\")"
      ],
      "metadata": {
        "id": "LCXAw9kLjwRW"
      },
      "execution_count": null,
      "outputs": []
    }
  ],
  "metadata": {
    "language_info": {
      "name": "python"
    },
    "orig_nbformat": 4,
    "colab": {
      "provenance": []
    }
  },
  "nbformat": 4,
  "nbformat_minor": 0
}